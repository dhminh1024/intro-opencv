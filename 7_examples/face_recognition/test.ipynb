{
 "cells": [
  {
   "cell_type": "code",
   "execution_count": 47,
   "metadata": {},
   "outputs": [],
   "source": [
    "#known_face_encodings, known_face_names\n",
    "import os\n",
    "import pathlib\n",
    "import face_recognition\n",
    "import cv2"
   ]
  },
  {
   "cell_type": "code",
   "execution_count": 48,
   "metadata": {},
   "outputs": [
    {
     "data": {
      "text/plain": [
       "['faces_db/Tu.jpg',\n",
       " 'faces_db/PhuongCHU.jpg',\n",
       " 'faces_db/Hang.jpg',\n",
       " 'faces_db/mina.jpg',\n",
       " 'faces_db/Rocky.jpg',\n",
       " 'faces_db/sandy.jpg',\n",
       " 'faces_db/Tri.jpeg']"
      ]
     },
     "execution_count": 48,
     "metadata": {},
     "output_type": "execute_result"
    }
   ],
   "source": [
    "images_root = pathlib.Path('./faces_db')\n",
    "\n",
    "all_image_paths = list(images_root.glob('*'))\n",
    "paths_str = [str(path) for path in all_image_paths if path.is_file()]\n",
    "\n",
    "paths_str"
   ]
  },
  {
   "cell_type": "code",
   "execution_count": 49,
   "metadata": {},
   "outputs": [
    {
     "data": {
      "text/plain": [
       "7"
      ]
     },
     "execution_count": 49,
     "metadata": {},
     "output_type": "execute_result"
    }
   ],
   "source": [
    "known_face_names = [str(path.name).split('.')[0] for path in all_image_paths if path.is_file()]\n",
    "len(known_face_names)"
   ]
  },
  {
   "cell_type": "code",
   "execution_count": 54,
   "metadata": {},
   "outputs": [],
   "source": [
    "images = [face_recognition.load_image_file(path) for path in paths_str]\n",
    "resized_images = [cv2.resize(image, (0, 0), fx=0.25, fy=0.25) for image in images]\n",
    "known_face_encodings = [face_recognition.face_encodings(image)[0] for image in resized_images]\n"
   ]
  },
  {
   "cell_type": "code",
   "execution_count": 51,
   "metadata": {},
   "outputs": [],
   "source": [
    "for index, item in enumerate(known_face_encodings):\n",
    "    if len(item)==0:\n",
    "        print(known_face_names[index])"
   ]
  },
  {
   "cell_type": "code",
   "execution_count": 55,
   "metadata": {},
   "outputs": [
    {
     "data": {
      "text/plain": [
       "128"
      ]
     },
     "execution_count": 55,
     "metadata": {},
     "output_type": "execute_result"
    }
   ],
   "source": [
    "len(known_face_encodings[0])"
   ]
  },
  {
   "cell_type": "code",
   "execution_count": 53,
   "metadata": {},
   "outputs": [
    {
     "data": {
      "text/plain": [
       "[array([-0.03661962,  0.06535584,  0.05068133, -0.01445315, -0.01541596,\n",
       "        -0.08247979, -0.06473763, -0.12597744,  0.1526206 , -0.11280592,\n",
       "         0.28303084, -0.05783995, -0.172273  , -0.14164728,  0.02074313,\n",
       "         0.17213793, -0.18849118, -0.07132388, -0.07062774,  0.03361895,\n",
       "         0.0882858 , -0.03307021,  0.00787347,  0.04919742, -0.05100655,\n",
       "        -0.43251362, -0.16900459, -0.07464971,  0.06982711, -0.05978403,\n",
       "        -0.03557549,  0.05332698, -0.14128907, -0.07636065, -0.00104618,\n",
       "         0.0725667 , -0.01620134, -0.07921608,  0.1579189 , -0.06812818,\n",
       "        -0.24252915,  0.03049639,  0.02865376,  0.2205843 ,  0.22775123,\n",
       "         0.08144006,  0.08199947, -0.12346359,  0.16212329, -0.14564212,\n",
       "         0.04016946,  0.10124243,  0.09631778,  0.03408136,  0.05215168,\n",
       "        -0.12731239, -0.00120351,  0.10236238, -0.16977802, -0.0253487 ,\n",
       "         0.05871616, -0.08487023, -0.00131704, -0.02980184,  0.20227507,\n",
       "         0.08505454, -0.09624217, -0.18297115,  0.15966056, -0.18106277,\n",
       "        -0.02363528,  0.03964218, -0.17483892, -0.16523641, -0.3702324 ,\n",
       "         0.00136586,  0.40363988,  0.04199891, -0.14746103,  0.08644168,\n",
       "        -0.06300142, -0.00228129,  0.13392413,  0.12046671, -0.01785111,\n",
       "        -0.00589054, -0.1442095 ,  0.0113203 ,  0.23561954, -0.08765422,\n",
       "        -0.00299611,  0.1694015 , -0.05004875,  0.05901301,  0.01526226,\n",
       "         0.03164755, -0.0820368 ,  0.05184904, -0.1163687 ,  0.00264656,\n",
       "         0.08515105,  0.00492017, -0.00294492,  0.09801795, -0.1513084 ,\n",
       "         0.12710676,  0.00799272,  0.06744546,  0.07282474, -0.01794926,\n",
       "        -0.1375352 , -0.08249548,  0.14438656, -0.20822069,  0.17537801,\n",
       "         0.14215323,  0.03759046,  0.11323852,  0.09004102,  0.11964191,\n",
       "        -0.04595795, -0.05174728, -0.2446038 ,  0.00834934,  0.08910006,\n",
       "         0.0288946 ,  0.06379928, -0.01741606])]"
      ]
     },
     "execution_count": 53,
     "metadata": {},
     "output_type": "execute_result"
    }
   ],
   "source": [
    "known_face_encodings[0]"
   ]
  },
  {
   "cell_type": "code",
   "execution_count": null,
   "metadata": {},
   "outputs": [],
   "source": []
  }
 ],
 "metadata": {
  "kernelspec": {
   "display_name": "Python 3",
   "language": "python",
   "name": "python3"
  },
  "language_info": {
   "codemirror_mode": {
    "name": "ipython",
    "version": 3
   },
   "file_extension": ".py",
   "mimetype": "text/x-python",
   "name": "python",
   "nbconvert_exporter": "python",
   "pygments_lexer": "ipython3",
   "version": "3.7.3"
  }
 },
 "nbformat": 4,
 "nbformat_minor": 2
}
