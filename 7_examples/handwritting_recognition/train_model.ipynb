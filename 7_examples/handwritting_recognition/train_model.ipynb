{
 "cells": [
  {
   "cell_type": "code",
   "execution_count": 59,
   "metadata": {},
   "outputs": [
    {
     "data": {
      "text/plain": [
       "'2.0.0-beta1'"
      ]
     },
     "execution_count": 59,
     "metadata": {},
     "output_type": "execute_result"
    }
   ],
   "source": [
    "import tensorflow as tf\n",
    "\n",
    "tf.__version__"
   ]
  },
  {
   "cell_type": "code",
   "execution_count": 27,
   "metadata": {},
   "outputs": [],
   "source": [
    "import cv2\n",
    "import imutils\n",
    "import numpy as np\n",
    "import matplotlib.pyplot as plt\n",
    "\n",
    "%matplotlib inline"
   ]
  },
  {
   "cell_type": "code",
   "execution_count": null,
   "metadata": {},
   "outputs": [],
   "source": []
  },
  {
   "cell_type": "code",
   "execution_count": 43,
   "metadata": {},
   "outputs": [],
   "source": [
    "mnist = tf.keras.datasets.mnist\n",
    "\n",
    "(X_train, y_train), (X_test, y_test) = mnist.load_data()\n",
    "X_train, X_test = X_train / 255.0, X_test / 255.0"
   ]
  },
  {
   "cell_type": "code",
   "execution_count": 12,
   "metadata": {},
   "outputs": [
    {
     "data": {
      "text/plain": [
       "<matplotlib.image.AxesImage at 0x65518c2b0>"
      ]
     },
     "execution_count": 12,
     "metadata": {},
     "output_type": "execute_result"
    },
    {
     "data": {
      "image/png": "[encoded data removed]",
      "text/plain": [
       "<Figure size 432x288 with 1 Axes>"
      ]
     },
     "metadata": {
      "needs_background": "light"
     },
     "output_type": "display_data"
    }
   ],
   "source": [
    "plt.imshow(X_train[0], cmap='gray')"
   ]
  },
  {
   "cell_type": "code",
   "execution_count": 44,
   "metadata": {},
   "outputs": [],
   "source": [
    "training_img_count = len(X_train)\n",
    "testing_img_count = len(X_test)\n",
    "\n",
    "BATCH_SIZE = 64\n",
    "AUTOTUNE = tf.data.experimental.AUTOTUNE\n",
    "\n",
    "def create_ds(images, labels, image_count):\n",
    "    ds = tf.data.Dataset.from_tensor_slices((images, labels))\n",
    "\n",
    "    # Setting a shuffle buffer size as large as the dataset ensures that the data is\n",
    "    # completely shuffled.\n",
    "    ds = ds.shuffle(buffer_size=image_count)\n",
    "    ds = ds.repeat()\n",
    "    ds = ds.batch(BATCH_SIZE)\n",
    "    # `prefetch` lets the dataset fetch batches in the background while the model is training.\n",
    "    ds = ds.prefetch(buffer_size=AUTOTUNE)\n",
    "    return ds"
   ]
  },
  {
   "cell_type": "code",
   "execution_count": 45,
   "metadata": {},
   "outputs": [],
   "source": [
    "training_set = create_ds(X_train, y_train, training_img_count)\n",
    "testing_set = create_ds(X_test, y_test, testing_img_count)"
   ]
  },
  {
   "cell_type": "code",
   "execution_count": 46,
   "metadata": {},
   "outputs": [],
   "source": [
    "class CollectBatchStats(tf.keras.callbacks.Callback):\n",
    "    def __init__(self):\n",
    "        self.batch_losses = []\n",
    "        self.batch_acc = []\n",
    "        self.batch_val_losses = []\n",
    "        self.batch_val_acc = []\n",
    "\n",
    "    def on_train_batch_end(self, batch, logs=None):\n",
    "        self.batch_losses.append(logs['loss'])\n",
    "        self.batch_acc.append(logs['accuracy'])\n",
    "        self.model.reset_metrics()\n",
    "  \n",
    "    def on_test_batch_end(self, batch, logs=None):\n",
    "        self.batch_val_losses.append(logs['loss'])\n",
    "        self.batch_val_acc.append(logs['accuracy'])\n",
    "        self.model.reset_metrics()"
   ]
  },
  {
   "cell_type": "code",
   "execution_count": 52,
   "metadata": {},
   "outputs": [
    {
     "name": "stdout",
     "output_type": "stream",
     "text": [
      "Image batch shape:  (64, 28, 28)\n",
      "Label batch shape:  (64,)\n"
     ]
    }
   ],
   "source": []
  },
  {
   "cell_type": "code",
   "execution_count": 57,
   "metadata": {},
   "outputs": [
    {
     "data": {
      "text/plain": [
       "<matplotlib.image.AxesImage at 0x656fe08d0>"
      ]
     },
     "execution_count": 57,
     "metadata": {},
     "output_type": "execute_result"
    },
    {
     "data": {
      "image/png": "[encoded data removed]",
      "text/plain": [
       "<Figure size 432x288 with 1 Axes>"
      ]
     },
     "metadata": {
      "needs_background": "light"
     },
     "output_type": "display_data"
    }
   ],
   "source": []
  },
  {
   "cell_type": "code",
   "execution_count": 66,
   "metadata": {},
   "outputs": [
    {
     "name": "stdout",
     "output_type": "stream",
     "text": [
      "Model: \"sequential_7\"\n",
      "_________________________________________________________________\n",
      "Layer (type)                 Output Shape              Param #   \n",
      "=================================================================\n",
      "reshape_5 (Reshape)          (None, 28, 28, 1)         0         \n",
      "_________________________________________________________________\n",
      "conv2d_21 (Conv2D)           (None, 28, 28, 12)        108       \n",
      "_________________________________________________________________\n",
      "batch_normalization_28 (Batc (None, 28, 28, 12)        36        \n",
      "_________________________________________________________________\n",
      "activation_28 (Activation)   (None, 28, 28, 12)        0         \n",
      "_________________________________________________________________\n",
      "conv2d_22 (Conv2D)           (None, 14, 14, 24)        10368     \n",
      "_________________________________________________________________\n",
      "batch_normalization_29 (Batc (None, 14, 14, 24)        72        \n",
      "_________________________________________________________________\n",
      "activation_29 (Activation)   (None, 14, 14, 24)        0         \n",
      "_________________________________________________________________\n",
      "conv2d_23 (Conv2D)           (None, 7, 7, 32)          27648     \n",
      "_________________________________________________________________\n",
      "batch_normalization_30 (Batc (None, 7, 7, 32)          96        \n",
      "_________________________________________________________________\n",
      "activation_30 (Activation)   (None, 7, 7, 32)          0         \n",
      "_________________________________________________________________\n",
      "flatten_7 (Flatten)          (None, 1568)              0         \n",
      "_________________________________________________________________\n",
      "dense_14 (Dense)             (None, 200)               313600    \n",
      "_________________________________________________________________\n",
      "batch_normalization_31 (Batc (None, 200)               600       \n",
      "_________________________________________________________________\n",
      "activation_31 (Activation)   (None, 200)               0         \n",
      "_________________________________________________________________\n",
      "dropout_7 (Dropout)          (None, 200)               0         \n",
      "_________________________________________________________________\n",
      "dense_15 (Dense)             (None, 10)                2010      \n",
      "=================================================================\n",
      "Total params: 354,538\n",
      "Trainable params: 354,002\n",
      "Non-trainable params: 536\n",
      "_________________________________________________________________\n"
     ]
    }
   ],
   "source": [
    "model = tf.keras.Sequential(\n",
    "  [\n",
    "      tf.keras.layers.Reshape(input_shape=(28,28), target_shape=(28, 28, 1)),\n",
    "      \n",
    "      tf.keras.layers.Conv2D(kernel_size=3, filters=12, use_bias=False, padding='same'),\n",
    "      tf.keras.layers.BatchNormalization(center=True, scale=False),\n",
    "      tf.keras.layers.Activation('relu'),\n",
    "      \n",
    "      tf.keras.layers.Conv2D(kernel_size=6, filters=24, use_bias=False, padding='same', strides=2),\n",
    "      tf.keras.layers.BatchNormalization(center=True, scale=False),\n",
    "      tf.keras.layers.Activation('relu'),\n",
    "      \n",
    "      tf.keras.layers.Conv2D(kernel_size=6, filters=32, use_bias=False, padding='same', strides=2),\n",
    "      tf.keras.layers.BatchNormalization(center=True, scale=False),\n",
    "      tf.keras.layers.Activation('relu'),\n",
    "      \n",
    "      tf.keras.layers.Flatten(),\n",
    "      \n",
    "      tf.keras.layers.Dense(200, use_bias=False),\n",
    "      tf.keras.layers.BatchNormalization(center=True, scale=False),\n",
    "      tf.keras.layers.Activation('relu'),\n",
    "      \n",
    "      tf.keras.layers.Dropout(0.3),\n",
    "      tf.keras.layers.Dense(10, activation='softmax')\n",
    "  ])\n",
    "\n",
    "model.compile(optimizer=tf.keras.optimizers.Adam(lr=0.01),\n",
    "              loss='sparse_categorical_crossentropy',\n",
    "              metrics=['accuracy'])\n",
    "\n",
    "# print model layers\n",
    "model.summary()"
   ]
  },
  {
   "cell_type": "code",
   "execution_count": 67,
   "metadata": {},
   "outputs": [],
   "source": [
    "# lr decay function\n",
    "def lr_decay(epoch):\n",
    "  return 0.01 * np.power(0.666, epoch)\n",
    "\n",
    "# lr schedule callback\n",
    "lr_decay_callback = tf.keras.callbacks.LearningRateScheduler(lr_decay, verbose=True)"
   ]
  },
  {
   "cell_type": "code",
   "execution_count": 68,
   "metadata": {},
   "outputs": [
    {
     "name": "stdout",
     "output_type": "stream",
     "text": [
      "\n",
      "Epoch 00001: LearningRateScheduler reducing learning rate to 0.01.\n",
      "Epoch 1/10\n",
      "937/937 [==============================] - 61s 65ms/step - loss: 0.1244 - accuracy: 0.9614 - val_loss: 0.0478 - val_accuracy: 0.9839\n",
      "\n",
      "Epoch 00002: LearningRateScheduler reducing learning rate to 0.00666.\n",
      "Epoch 2/10\n",
      "937/937 [==============================] - 59s 63ms/step - loss: 0.0472 - accuracy: 0.9856 - val_loss: 0.0370 - val_accuracy: 0.9892\n",
      "\n",
      "Epoch 00003: LearningRateScheduler reducing learning rate to 0.004435560000000001.\n",
      "Epoch 3/10\n",
      "937/937 [==============================] - 54s 58ms/step - loss: 0.0297 - accuracy: 0.9907 - val_loss: 0.0242 - val_accuracy: 0.9920\n",
      "\n",
      "Epoch 00004: LearningRateScheduler reducing learning rate to 0.0029540829600000007.\n",
      "Epoch 4/10\n",
      "937/937 [==============================] - 55s 58ms/step - loss: 0.0209 - accuracy: 0.9938 - val_loss: 0.0210 - val_accuracy: 0.9944\n",
      "\n",
      "Epoch 00005: LearningRateScheduler reducing learning rate to 0.0019674192513600007.\n",
      "Epoch 5/10\n",
      "937/937 [==============================] - 55s 59ms/step - loss: 0.0134 - accuracy: 0.9957 - val_loss: 0.0247 - val_accuracy: 0.9929\n",
      "\n",
      "Epoch 00006: LearningRateScheduler reducing learning rate to 0.0013103012214057605.\n",
      "Epoch 6/10\n",
      "937/937 [==============================] - 56s 59ms/step - loss: 0.0088 - accuracy: 0.9974 - val_loss: 0.0183 - val_accuracy: 0.9941\n",
      "\n",
      "Epoch 00007: LearningRateScheduler reducing learning rate to 0.0008726606134562365.\n",
      "Epoch 7/10\n",
      "937/937 [==============================] - 55s 58ms/step - loss: 0.0057 - accuracy: 0.9983 - val_loss: 0.0193 - val_accuracy: 0.9945\n",
      "\n",
      "Epoch 00008: LearningRateScheduler reducing learning rate to 0.0005811919685618535.\n",
      "Epoch 8/10\n",
      "937/937 [==============================] - 56s 60ms/step - loss: 0.0046 - accuracy: 0.9987 - val_loss: 0.0193 - val_accuracy: 0.9943\n",
      "\n",
      "Epoch 00009: LearningRateScheduler reducing learning rate to 0.0003870738510621945.\n",
      "Epoch 9/10\n",
      "937/937 [==============================] - 56s 59ms/step - loss: 0.0037 - accuracy: 0.9989 - val_loss: 0.0180 - val_accuracy: 0.9944\n",
      "\n",
      "Epoch 00010: LearningRateScheduler reducing learning rate to 0.00025779118480742154.\n",
      "Epoch 10/10\n",
      "937/937 [==============================] - 56s 60ms/step - loss: 0.0028 - accuracy: 0.9994 - val_loss: 0.0179 - val_accuracy: 0.9949\n"
     ]
    }
   ],
   "source": [
    "steps_per_epoch = training_img_count // BATCH_SIZE\n",
    "val_steps_per_epoch = testing_img_count // BATCH_SIZE\n",
    "batch_stats_callback = CollectBatchStats()\n",
    "\n",
    "history = model.fit(training_set, epochs=10, \n",
    "            steps_per_epoch=steps_per_epoch,\n",
    "            callbacks=[lr_decay_callback],\n",
    "            validation_data=testing_set,\n",
    "            validation_steps=val_steps_per_epoch)"
   ]
  },
  {
   "cell_type": "code",
   "execution_count": 69,
   "metadata": {},
   "outputs": [
    {
     "data": {
      "image/png": "[encoded data removed]",
      "text/plain": [
       "<Figure size 432x288 with 1 Axes>"
      ]
     },
     "metadata": {
      "needs_background": "light"
     },
     "output_type": "display_data"
    }
   ],
   "source": [
    "def plot_loss(training_losses, val_losses, x_label='Training Steps'):\n",
    "    plt.figure()\n",
    "    plt.ylabel(\"Loss\")\n",
    "    plt.xlabel(x_label)\n",
    "    \n",
    "    training_steps = len(training_losses)\n",
    "    test_steps = len(val_losses)\n",
    "    plt.plot(training_losses, label='Training Loss')\n",
    "    plt.plot(np.linspace(0, training_steps, test_steps), val_losses, label='Validation Loss')\n",
    "    plt.ylim([0,max(plt.ylim())])\n",
    "    plt.legend(loc='upper right')\n",
    "    plt.show()\n",
    "    \n",
    "plot_loss(batch_stats_callback.batch_losses, batch_stats_callback.batch_val_losses)"
   ]
  },
  {
   "cell_type": "code",
   "execution_count": 70,
   "metadata": {},
   "outputs": [
    {
     "data": {
      "image/png": "[encoded data removed]",
      "text/plain": [
       "<Figure size 432x288 with 1 Axes>"
      ]
     },
     "metadata": {
      "needs_background": "light"
     },
     "output_type": "display_data"
    }
   ],
   "source": [
    "def plot_accuracy(training_acc, val_acc, x_label='Training Steps'):\n",
    "    plt.figure()\n",
    "    plt.ylabel(\"Accuracy\")\n",
    "    plt.xlabel(x_label)\n",
    "    \n",
    "    training_steps = len(training_acc)\n",
    "    test_steps = len(val_acc)\n",
    "    plt.plot(training_acc, label='Training Accuracy')\n",
    "    plt.plot(np.linspace(0, training_steps, test_steps), val_acc, label='Validation Accuracy')\n",
    "    plt.ylim([0,1])\n",
    "    plt.legend(loc='lower right')\n",
    "    plt.show()\n",
    "    \n",
    "plot_accuracy(batch_stats_callback.batch_acc, batch_stats_callback.batch_val_acc)"
   ]
  },
  {
   "cell_type": "code",
   "execution_count": null,
   "metadata": {},
   "outputs": [],
   "source": []
  },
  {
   "cell_type": "code",
   "execution_count": 71,
   "metadata": {},
   "outputs": [
    {
     "name": "stdout",
     "output_type": "stream",
     "text": [
      "Image batch shape:  (64, 28, 28)\n",
      "Label batch shape:  (64,)\n"
     ]
    }
   ],
   "source": [
    "for image_batch, label_batch in test_set:\n",
    "  print(\"Image batch shape: \", image_batch.shape)\n",
    "  print(\"Label batch shape: \", label_batch.shape)\n",
    "  break"
   ]
  },
  {
   "cell_type": "code",
   "execution_count": 73,
   "metadata": {},
   "outputs": [],
   "source": [
    "# Predict\n",
    "predicted_batch = model.predict(image_batch)\n",
    "predicted_id = np.argmax(predicted_batch, axis=1)"
   ]
  },
  {
   "cell_type": "code",
   "execution_count": 74,
   "metadata": {},
   "outputs": [
    {
     "data": {
      "image/png": "[encoded data removed]",
      "text/plain": [
       "<Figure size 720x648 with 30 Axes>"
      ]
     },
     "metadata": {
      "needs_background": "light"
     },
     "output_type": "display_data"
    }
   ],
   "source": [
    "# Plot the result\n",
    "\n",
    "plt.figure(figsize=(10,9))\n",
    "plt.subplots_adjust(hspace=0.5)\n",
    "for n in range(30):\n",
    "  plt.subplot(6,5,n+1)\n",
    "  plt.imshow((image_batch[n]+1)/2)\n",
    "  color = \"green\" if predicted_id[n] == label_batch.numpy()[n] else \"red\"\n",
    "  plt.title(str(predicted_id[n]), color=color)\n",
    "  plt.axis('off')\n",
    "_ = plt.suptitle(\"Model predictions (green: correct, red: incorrect)\")"
   ]
  },
  {
   "cell_type": "code",
   "execution_count": null,
   "metadata": {},
   "outputs": [],
   "source": []
  },
  {
   "cell_type": "code",
   "execution_count": null,
   "metadata": {},
   "outputs": [],
   "source": []
  },
  {
   "cell_type": "code",
   "execution_count": 75,
   "metadata": {},
   "outputs": [],
   "source": [
    "model.save('model.h5')"
   ]
  },
  {
   "cell_type": "code",
   "execution_count": 76,
   "metadata": {},
   "outputs": [
    {
     "name": "stdout",
     "output_type": "stream",
     "text": [
      "Model: \"sequential_7\"\n",
      "_________________________________________________________________\n",
      "Layer (type)                 Output Shape              Param #   \n",
      "=================================================================\n",
      "reshape_5 (Reshape)          (None, 28, 28, 1)         0         \n",
      "_________________________________________________________________\n",
      "conv2d_21 (Conv2D)           (None, 28, 28, 12)        108       \n",
      "_________________________________________________________________\n",
      "batch_normalization_28 (Batc (None, 28, 28, 12)        36        \n",
      "_________________________________________________________________\n",
      "activation_28 (Activation)   (None, 28, 28, 12)        0         \n",
      "_________________________________________________________________\n",
      "conv2d_22 (Conv2D)           (None, 14, 14, 24)        10368     \n",
      "_________________________________________________________________\n",
      "batch_normalization_29 (Batc (None, 14, 14, 24)        72        \n",
      "_________________________________________________________________\n",
      "activation_29 (Activation)   (None, 14, 14, 24)        0         \n",
      "_________________________________________________________________\n",
      "conv2d_23 (Conv2D)           (None, 7, 7, 32)          27648     \n",
      "_________________________________________________________________\n",
      "batch_normalization_30 (Batc (None, 7, 7, 32)          96        \n",
      "_________________________________________________________________\n",
      "activation_30 (Activation)   (None, 7, 7, 32)          0         \n",
      "_________________________________________________________________\n",
      "flatten_7 (Flatten)          (None, 1568)              0         \n",
      "_________________________________________________________________\n",
      "dense_14 (Dense)             (None, 200)               313600    \n",
      "_________________________________________________________________\n",
      "batch_normalization_31 (Batc (None, 200)               600       \n",
      "_________________________________________________________________\n",
      "activation_31 (Activation)   (None, 200)               0         \n",
      "_________________________________________________________________\n",
      "dropout_7 (Dropout)          (None, 200)               0         \n",
      "_________________________________________________________________\n",
      "dense_15 (Dense)             (None, 10)                2010      \n",
      "=================================================================\n",
      "Total params: 354,538\n",
      "Trainable params: 354,002\n",
      "Non-trainable params: 536\n",
      "_________________________________________________________________\n"
     ]
    }
   ],
   "source": [
    "reloaded_model = tf.keras.models.load_model('model.h5')\n",
    "reloaded_model.summary()"
   ]
  },
  {
   "cell_type": "code",
   "execution_count": 77,
   "metadata": {},
   "outputs": [],
   "source": [
    "result_batch = model.predict(image_batch)\n",
    "reloaded_result_batch = reloaded_model.predict(image_batch)"
   ]
  },
  {
   "cell_type": "code",
   "execution_count": 78,
   "metadata": {},
   "outputs": [
    {
     "data": {
      "text/plain": [
       "0.0"
      ]
     },
     "execution_count": 78,
     "metadata": {},
     "output_type": "execute_result"
    }
   ],
   "source": [
    "abs(reloaded_result_batch - result_batch).max()"
   ]
  },
  {
   "cell_type": "code",
   "execution_count": null,
   "metadata": {},
   "outputs": [],
   "source": []
  },
  {
   "cell_type": "code",
   "execution_count": null,
   "metadata": {},
   "outputs": [],
   "source": []
  }
 ],
 "metadata": {
  "kernelspec": {
   "display_name": "Python 3",
   "language": "python",
   "name": "python3"
  },
  "language_info": {
   "codemirror_mode": {
    "name": "ipython",
    "version": 3
   },
   "file_extension": ".py",
   "mimetype": "text/x-python",
   "name": "python",
   "nbconvert_exporter": "python",
   "pygments_lexer": "ipython3",
   "version": "3.7.3"
  }
 },
 "nbformat": 4,
 "nbformat_minor": 2
}
